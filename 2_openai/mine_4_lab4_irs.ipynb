{
 "cells": [
  {
   "cell_type": "markdown",
   "metadata": {},
   "source": [
    "## Deep Research\n",
    "\n",
    "One of the classic cross-business Agentic use cases! This is huge."
   ]
  },
  {
   "cell_type": "markdown",
   "metadata": {},
   "source": [
    "<table style=\"margin: 0; text-align: left; width:100%\">\n",
    "    <tr>\n",
    "        <td style=\"width: 150px; height: 150px; vertical-align: middle;\">\n",
    "            <img src=\"../assets/business.png\" width=\"150\" height=\"150\" style=\"display: block;\" />\n",
    "        </td>\n",
    "        <td>\n",
    "            <h2 style=\"color:#00bfff;\">Commercial implications</h2>\n",
    "            <span style=\"color:#00bfff;\">A Deep Research agent is broadly applicable to any business area, and to your own day-to-day activities. You can make use of this yourself!\n",
    "            </span>\n",
    "        </td>\n",
    "    </tr>\n",
    "</table>"
   ]
  },
  {
   "cell_type": "code",
   "execution_count": 1,
   "metadata": {},
   "outputs": [],
   "source": [
    "from agents import Agent, WebSearchTool, trace, Runner, gen_trace_id, function_tool\n",
    "from agents.model_settings import ModelSettings\n",
    "from pydantic import BaseModel\n",
    "from dotenv import load_dotenv\n",
    "import asyncio\n",
    "import sendgrid\n",
    "import os\n",
    "from sendgrid.helpers.mail import Mail, Email, To, Content\n",
    "from typing import Dict\n",
    "from IPython.display import display, Markdown\n",
    "from tavily import TavilyClient\n",
    "from agents.extensions.visualization import draw_graph\n"
   ]
  },
  {
   "cell_type": "code",
   "execution_count": 2,
   "metadata": {},
   "outputs": [
    {
     "data": {
      "text/plain": [
       "True"
      ]
     },
     "execution_count": 2,
     "metadata": {},
     "output_type": "execute_result"
    }
   ],
   "source": [
    "load_dotenv(override=True)"
   ]
  },
  {
   "cell_type": "markdown",
   "metadata": {},
   "source": [
    "## OpenAI Hosted Tools\n",
    "\n",
    "OpenAI Agents SDK includes the following hosted tools:\n",
    "\n",
    "The `WebSearchTool` lets an agent search the web.  \n",
    "The `FileSearchTool` allows retrieving information from your OpenAI Vector Stores.  \n",
    "The `ComputerTool` allows automating computer use tasks like taking screenshots and clicking.\n",
    "\n",
    "### Important note - API charge of WebSearchTool\n",
    "\n",
    "This is costing me 2.5 cents per call for OpenAI WebSearchTool. That can add up to $2-$3 for the next 2 labs. We'll use low cost Search tools with other platforms, so feel free to skip running this if the cost is a concern.\n",
    "\n",
    "Costs are here: https://platform.openai.com/docs/pricing#web-search"
   ]
  },
  {
   "cell_type": "code",
   "execution_count": 3,
   "metadata": {},
   "outputs": [],
   "source": [
    "@function_tool\n",
    "def search_web(query: str) -> str:\n",
    "    \"\"\"\n",
    "    Searches the web using Tavily API and returns the top result.\n",
    "    Args:\n",
    "        query (str): The search query.\n",
    "    Returns:\n",
    "        str: The title and URL of the top search result.\n",
    "    \"\"\"\n",
    "    load_dotenv(\".envrc\")\n",
    "    api_key = os.getenv(\"TAVILY_API_KEY\")\n",
    "    client = TavilyClient(api_key=api_key)\n",
    "    results = client.search(query=query, limit=3)\n",
    "    return str(results)"
   ]
  },
  {
   "cell_type": "code",
   "execution_count": 4,
   "metadata": {},
   "outputs": [],
   "source": [
    "INSTRUCTIONS = \"You are a research assistant. Given a search term, you search the web for that term and \\\n",
    "produce a concise summary of the results. The summary must 2-3 paragraphs and less than 300 \\\n",
    "words. Capture the main points. Write succintly, no need to have complete sentences or good \\\n",
    "grammar. This will be consumed by someone synthesizing a report, so it's vital you capture the \\\n",
    "essence and ignore any fluff. Do not include any additional commentary other than the summary itself.\"\n",
    "\n",
    "search_agent = Agent(\n",
    "    name=\"Search agent\",\n",
    "    instructions=INSTRUCTIONS,\n",
    "    tools=[search_web],\n",
    "    # tools=[WebSearchTool(search_context_size=\"low\")],\n",
    "    model=\"gpt-4o-mini\",\n",
    "    model_settings=ModelSettings(tool_choice=\"required\"),\n",
    ")"
   ]
  },
  {
   "cell_type": "code",
   "execution_count": 5,
   "metadata": {},
   "outputs": [
    {
     "data": {
      "text/markdown": [
       "The IRS has announced several key changes for the 2024 tax code, affecting individuals, families, and businesses. Significant updates include an increase in the standard deduction for married couples filing jointly to $29,200—up by $1,500 from 2023. Additionally, adjusted income tax brackets are designed to provide relief amid inflation. New reporting requirements for digital assets and enhancements to electric vehicle tax credits are also noteworthy, promoting both compliance and sustainable practices.\n",
       "\n",
       "Despite fewer updates than in previous years, the 2024 tax landscape emphasizes careful planning. Notably, this marks the first instance since 2016 where no federal tax bills have been enacted. Taxpayers and preparers must be aware of these shifts, especially in areas like retirement contributions and deductions. Staying informed on these changes is crucial for accurate tax filing and optimization of financial strategies. \n",
       "\n",
       "For detailed guidance, resources such as IRS announcements and financial advisory websites are available, outlining all adjustments for the upcoming tax year."
      ],
      "text/plain": [
       "<IPython.core.display.Markdown object>"
      ]
     },
     "metadata": {},
     "output_type": "display_data"
    }
   ],
   "source": [
    "message = \"Latest latest updates of the IRS 2024 tax code changes\"\n",
    "\n",
    "with trace(\"Search\"):\n",
    "    result = await Runner.run(search_agent, message)\n",
    "\n",
    "display(Markdown(result.final_output))"
   ]
  },
  {
   "cell_type": "markdown",
   "metadata": {},
   "source": [
    "### As always, take a look at the trace\n",
    "\n",
    "https://platform.openai.com/traces"
   ]
  },
  {
   "cell_type": "markdown",
   "metadata": {},
   "source": [
    "### We will now use Structured Outputs, and include a description of the fields"
   ]
  },
  {
   "cell_type": "code",
   "execution_count": 6,
   "metadata": {},
   "outputs": [],
   "source": [
    "# See note above about cost of WebSearchTool\n",
    "\n",
    "HOW_MANY_SEARCHES = 3\n",
    "\n",
    "INSTRUCTIONS = f\"You are a helpful research assistant. Given a query, come up with a set of web searches \\\n",
    "to perform to best answer the query. Output {HOW_MANY_SEARCHES} terms to query for.\"\n",
    "\n",
    "\n",
    "class WebSearchItem(BaseModel):\n",
    "    reason: str\n",
    "    \"Your reasoning for why this search is important to the query.\"\n",
    "\n",
    "    query: str\n",
    "    \"The search term to use for the web search.\"\n",
    "\n",
    "\n",
    "class WebSearchPlan(BaseModel):\n",
    "    searches: list[WebSearchItem]\n",
    "    \"\"\"A list of web searches to perform to best answer the query.\"\"\"\n",
    "\n",
    "\n",
    "planner_agent = Agent(\n",
    "    name=\"PlannerAgent\",\n",
    "    instructions=INSTRUCTIONS,\n",
    "    model=\"gpt-4o-mini\",\n",
    "    output_type=WebSearchPlan,\n",
    ")"
   ]
  },
  {
   "cell_type": "code",
   "execution_count": 7,
   "metadata": {},
   "outputs": [
    {
     "name": "stdout",
     "output_type": "stream",
     "text": [
      "searches=[WebSearchItem(reason='To find the most recent updates on the IRS tax code changes for 2024.', query='IRS 2024 tax code changes updates'), WebSearchItem(reason='To explore any official announcements made by the IRS regarding the 2024 tax regulations.', query='IRS 2024 tax regulations official announcement'), WebSearchItem(reason='To gather insights from financial experts about the implications of the 2024 tax code changes.', query='2024 tax code changes expert analysis')]\n"
     ]
    }
   ],
   "source": [
    "\n",
    "message = \"Latest latest updates of the IRS 2024 tax code changes\"\n",
    "\n",
    "with trace(\"Search\"):\n",
    "    result = await Runner.run(planner_agent, message)\n",
    "    print(result.final_output)"
   ]
  },
  {
   "cell_type": "code",
   "execution_count": 8,
   "metadata": {},
   "outputs": [],
   "source": [
    "@function_tool\n",
    "def send_email(subject: str, html_body: str) -> Dict[str, str]:\n",
    "    \"\"\" Send out an email with the given subject and HTML body \"\"\"\n",
    "    sg = sendgrid.SendGridAPIClient(api_key=os.environ.get('SENDGRID_API_KEY'))\n",
    "    from_email = Email(\"website.stray_1y@icloud.com\") # Change this to your verified email\n",
    "    to_email = To(\"rogerscuall@gmail.com\") # Change this to your email\n",
    "    content = Content(\"text/html\", html_body)\n",
    "    mail = Mail(from_email, to_email, subject, content).get()\n",
    "    response = sg.client.mail.send.post(request_body=mail)\n",
    "    return {\"status\": \"success\"}"
   ]
  },
  {
   "cell_type": "code",
   "execution_count": 9,
   "metadata": {},
   "outputs": [],
   "source": [
    "# send_email(\"test\", \"test\")"
   ]
  },
  {
   "cell_type": "code",
   "execution_count": 10,
   "metadata": {},
   "outputs": [],
   "source": [
    "INSTRUCTIONS = \"\"\"You are able to send a nicely formatted HTML email based on a detailed report.\n",
    "You will be provided with a detailed report. You should use your tool to send one email, providing the \n",
    "report converted into clean, well presented HTML with an appropriate subject line.\"\"\"\n",
    "\n",
    "email_agent = Agent(\n",
    "    name=\"Email agent\",\n",
    "    instructions=INSTRUCTIONS,\n",
    "    tools=[send_email],\n",
    "    model=\"gpt-4o-mini\",\n",
    ")\n",
    "\n"
   ]
  },
  {
   "cell_type": "code",
   "execution_count": 11,
   "metadata": {},
   "outputs": [],
   "source": [
    "INSTRUCTIONS = (\n",
    "    \"You are a senior researcher tasked with writing a cohesive report for a research query. \"\n",
    "    \"You will be provided with the original query, and some initial research done by a research assistant.\\n\"\n",
    "    \"You should first come up with an outline for the report that describes the structure and \"\n",
    "    \"flow of the report. Then, generate the report and return that as your final output.\\n\"\n",
    "    \"The final output should be in markdown format, and it should be lengthy and detailed. Aim \"\n",
    "    \"for 5-10 pages of content, at least 1000 words.\"\n",
    ")\n",
    "\n",
    "\n",
    "class ReportData(BaseModel):\n",
    "    short_summary: str\n",
    "    \"\"\"A short 2-3 sentence summary of the findings.\"\"\"\n",
    "\n",
    "    markdown_report: str\n",
    "    \"\"\"The final report\"\"\"\n",
    "\n",
    "    follow_up_questions: list[str]\n",
    "    \"\"\"Suggested topics to research further\"\"\"\n",
    "\n",
    "\n",
    "writer_agent = Agent(\n",
    "    name=\"WriterAgent\",\n",
    "    instructions=INSTRUCTIONS,\n",
    "    model=\"gpt-4o-mini\",\n",
    "    output_type=ReportData,\n",
    ")"
   ]
  },
  {
   "cell_type": "markdown",
   "metadata": {},
   "source": [
    "### The next 3 functions will plan and execute the search, using planner_agent and search_agent"
   ]
  },
  {
   "cell_type": "code",
   "execution_count": 12,
   "metadata": {},
   "outputs": [],
   "source": [
    "async def plan_searches(query: str):\n",
    "    \"\"\" Use the planner_agent to plan which searches to run for the query \"\"\"\n",
    "    print(\"Planning searches...\")\n",
    "    result = await Runner.run(planner_agent, f\"Query: {query}\")\n",
    "    print(f\"Will perform {len(result.final_output.searches)} searches\")\n",
    "    return result.final_output\n",
    "\n",
    "async def perform_searches(search_plan: WebSearchPlan):\n",
    "    \"\"\" Call search() for each item in the search plan \"\"\"\n",
    "    print(\"Searching...\")\n",
    "    tasks = [asyncio.create_task(search(item)) for item in search_plan.searches]\n",
    "    results = await asyncio.gather(*tasks)\n",
    "    print(\"Finished searching\")\n",
    "    return results\n",
    "\n",
    "async def search(item: WebSearchItem):\n",
    "    \"\"\" Use the search agent to run a web search for each item in the search plan \"\"\"\n",
    "    input = f\"Search term: {item.query}\\nReason for searching: {item.reason}\"\n",
    "    result = await Runner.run(search_agent, input)\n",
    "    return result.final_output"
   ]
  },
  {
   "cell_type": "code",
   "execution_count": 13,
   "metadata": {},
   "outputs": [
    {
     "data": {
      "image/svg+xml": [
       "<?xml version=\"1.0\" encoding=\"UTF-8\" standalone=\"no\"?>\n",
       "<!DOCTYPE svg PUBLIC \"-//W3C//DTD SVG 1.1//EN\"\n",
       " \"http://www.w3.org/Graphics/SVG/1.1/DTD/svg11.dtd\">\n",
       "<!-- Generated by graphviz version 12.2.1 (20241206.2353)\n",
       " -->\n",
       "<!-- Title: G Pages: 1 -->\n",
       "<svg width=\"244pt\" height=\"205pt\"\n",
       " viewBox=\"0.00 0.00 244.07 204.78\" xmlns=\"http://www.w3.org/2000/svg\" xmlns:xlink=\"http://www.w3.org/1999/xlink\">\n",
       "<g id=\"graph0\" class=\"graph\" transform=\"scale(1 1) rotate(0) translate(4 200.78)\">\n",
       "<title>G</title>\n",
       "<polygon fill=\"white\" stroke=\"none\" points=\"-4,4 -4,-200.78 240.07,-200.78 240.07,4 -4,4\"/>\n",
       "<!-- __start__ -->\n",
       "<g id=\"node1\" class=\"node\">\n",
       "<title>__start__</title>\n",
       "<ellipse fill=\"lightblue\" stroke=\"black\" cx=\"175.44\" cy=\"-179.98\" rx=\"51.09\" ry=\"16.79\"/>\n",
       "<text text-anchor=\"middle\" x=\"175.44\" y=\"-174.56\" font-family=\"Arial\" font-size=\"14.00\">__start__</text>\n",
       "</g>\n",
       "<!-- Email agent -->\n",
       "<g id=\"node3\" class=\"node\">\n",
       "<title>Email agent</title>\n",
       "<polygon fill=\"lightyellow\" stroke=\"black\" points=\"229.44,-127.19 121.44,-127.19 121.44,-69.59 229.44,-69.59 229.44,-127.19\"/>\n",
       "<text text-anchor=\"middle\" x=\"175.44\" y=\"-92.96\" font-family=\"Arial\" font-size=\"14.00\">Email agent</text>\n",
       "</g>\n",
       "<!-- __start__&#45;&gt;Email agent -->\n",
       "<g id=\"edge1\" class=\"edge\">\n",
       "<title>__start__&#45;&gt;Email agent</title>\n",
       "<path fill=\"none\" stroke=\"black\" stroke-width=\"1.5\" d=\"M175.44,-162.87C175.44,-156.04 175.44,-147.74 175.44,-139.42\"/>\n",
       "<polygon fill=\"black\" stroke=\"black\" stroke-width=\"1.5\" points=\"178.94,-139.66 175.44,-129.66 171.94,-139.66 178.94,-139.66\"/>\n",
       "</g>\n",
       "<!-- __end__ -->\n",
       "<g id=\"node2\" class=\"node\">\n",
       "<title>__end__</title>\n",
       "<ellipse fill=\"lightblue\" stroke=\"black\" cx=\"48.44\" cy=\"-16.79\" rx=\"48.44\" ry=\"16.79\"/>\n",
       "<text text-anchor=\"middle\" x=\"48.44\" y=\"-11.37\" font-family=\"Arial\" font-size=\"14.00\">__end__</text>\n",
       "</g>\n",
       "<!-- Email agent&#45;&gt;__end__ -->\n",
       "<g id=\"edge4\" class=\"edge\">\n",
       "<title>Email agent&#45;&gt;__end__</title>\n",
       "<path fill=\"none\" stroke=\"black\" stroke-width=\"1.5\" d=\"M130.3,-69.1C114.13,-58.96 96.21,-47.73 81.27,-38.37\"/>\n",
       "<polygon fill=\"black\" stroke=\"black\" stroke-width=\"1.5\" points=\"83.24,-35.48 72.91,-33.13 79.52,-41.41 83.24,-35.48\"/>\n",
       "</g>\n",
       "<!-- send_email -->\n",
       "<g id=\"node4\" class=\"node\">\n",
       "<title>send_email</title>\n",
       "<ellipse fill=\"lightgreen\" stroke=\"black\" cx=\"175.44\" cy=\"-16.79\" rx=\"60.63\" ry=\"16.79\"/>\n",
       "<text text-anchor=\"middle\" x=\"175.44\" y=\"-11.37\" font-family=\"Arial\" font-size=\"14.00\">send_email</text>\n",
       "</g>\n",
       "<!-- Email agent&#45;&gt;send_email -->\n",
       "<g id=\"edge2\" class=\"edge\">\n",
       "<title>Email agent&#45;&gt;send_email</title>\n",
       "<path fill=\"none\" stroke=\"black\" stroke-width=\"1.5\" stroke-dasharray=\"1,5\" d=\"M168.94,-69.1C168.6,-61.64 168.6,-53.58 168.94,-46.11\"/>\n",
       "<polygon fill=\"black\" stroke=\"black\" stroke-width=\"1.5\" points=\"172.43,-46.45 169.71,-36.21 165.45,-45.91 172.43,-46.45\"/>\n",
       "</g>\n",
       "<!-- send_email&#45;&gt;Email agent -->\n",
       "<g id=\"edge3\" class=\"edge\">\n",
       "<title>send_email&#45;&gt;Email agent</title>\n",
       "<path fill=\"none\" stroke=\"black\" stroke-width=\"1.5\" stroke-dasharray=\"1,5\" d=\"M180.99,-33.94C181.77,-40.64 182.16,-48.75 182.19,-56.89\"/>\n",
       "<polygon fill=\"black\" stroke=\"black\" stroke-width=\"1.5\" points=\"178.69,-56.76 181.98,-66.83 185.69,-56.91 178.69,-56.76\"/>\n",
       "</g>\n",
       "</g>\n",
       "</svg>\n"
      ],
      "text/plain": [
       "<graphviz.sources.Source at 0x113233920>"
      ]
     },
     "execution_count": 13,
     "metadata": {},
     "output_type": "execute_result"
    }
   ],
   "source": [
    "draw_graph(email_agent)"
   ]
  },
  {
   "cell_type": "markdown",
   "metadata": {},
   "source": [
    "### The next 2 functions write a report and email it"
   ]
  },
  {
   "cell_type": "code",
   "execution_count": 14,
   "metadata": {},
   "outputs": [],
   "source": [
    "async def write_report(query: str, search_results: list[str]):\n",
    "    \"\"\" Use the writer agent to write a report based on the search results\"\"\"\n",
    "    print(\"Thinking about report...\")\n",
    "    input = f\"Original query: {query}\\nSummarized search results: {search_results}\"\n",
    "    result = await Runner.run(writer_agent, input)\n",
    "    print(\"Finished writing report\")\n",
    "    return result.final_output\n",
    "\n",
    "async def send_email(report: ReportData):\n",
    "    \"\"\" Use the email agent to send an email with the report \"\"\"\n",
    "    print(\"Writing email...\")\n",
    "    result = await Runner.run(email_agent, report.markdown_report)\n",
    "    print(\"Email sent\")\n",
    "    return report"
   ]
  },
  {
   "cell_type": "markdown",
   "metadata": {},
   "source": [
    "### Showtime!"
   ]
  },
  {
   "cell_type": "code",
   "execution_count": 15,
   "metadata": {},
   "outputs": [
    {
     "name": "stdout",
     "output_type": "stream",
     "text": [
      "Starting research...\n",
      "Planning searches...\n",
      "Will perform 3 searches\n",
      "Searching...\n",
      "Finished searching\n",
      "Thinking about report...\n",
      "Finished writing report\n",
      "Writing email...\n",
      "Email sent\n",
      "Hooray!\n"
     ]
    }
   ],
   "source": [
    "query =\"Latest updates of the IRS 2024 tax code changes\"\n",
    "\n",
    "with trace(\"Research trace\"):\n",
    "    print(\"Starting research...\")\n",
    "    search_plan = await plan_searches(query)\n",
    "    search_results = await perform_searches(search_plan)\n",
    "    report = await write_report(query, search_results)\n",
    "    await send_email(report)  \n",
    "    print(\"Hooray!\")\n",
    "\n",
    "\n"
   ]
  },
  {
   "cell_type": "markdown",
   "metadata": {},
   "source": [
    "### As always, take a look at the trace\n",
    "\n",
    "https://platform.openai.com/traces"
   ]
  },
  {
   "cell_type": "markdown",
   "metadata": {},
   "source": [
    "<table style=\"margin: 0; text-align: left; width:100%\">\n",
    "    <tr>\n",
    "        <td style=\"width: 150px; height: 150px; vertical-align: middle;\">\n",
    "            <img src=\"../assets/thanks.png\" width=\"150\" height=\"150\" style=\"display: block;\" />\n",
    "        </td>\n",
    "        <td>\n",
    "            <h2 style=\"color:#00cc00;\">Congratulations on your progress, and a request</h2>\n",
    "            <span style=\"color:#00cc00;\">You've reached an important moment with the course; you've created a valuable Agent using one of the latest Agent frameworks. You've upskilled, and unlocked new commercial possibilities. Take a moment to celebrate your success!<br/><br/>Something I should ask you -- my editor would smack me if I didn't mention this. If you're able to rate the course on Udemy, I'd be seriously grateful: it's the most important way that Udemy decides whether to show the course to others and it makes a massive difference.<br/><br/>And another reminder to <a href=\"https://www.linkedin.com/in/eddonner/\">connect with me on LinkedIn</a> if you wish! If you wanted to post about your progress on the course, please tag me and I'll weigh in to increase your exposure.\n",
    "            </span>\n",
    "        </td>\n",
    "    </tr>"
   ]
  },
  {
   "cell_type": "code",
   "execution_count": 16,
   "metadata": {},
   "outputs": [],
   "source": [
    "from textwrap import dedent\n",
    "web_search_tools = [\n",
    "    planner_agent.as_tool(tool_name=\"plan_searches\", tool_description=\"Plan a set of web searches to perform\"),\n",
    "    search_agent.as_tool(tool_name=\"search\", tool_description=\"Search the web for information\"),\n",
    "]\n",
    "web_search_agent = Agent(\n",
    "    name=\"WebSearchAgent\",\n",
    "    instructions=dedent(\n",
    "        \"\"\"\n",
    "        You are a web search agent. You will be provided with a query. \n",
    "        You should first plan the searches to perform, then perform the searches.\n",
    "        \"\"\"\n",
    "    ),\n",
    "    tools=web_search_tools,\n",
    "    model=\"gpt-4o-mini\",\n",
    "    model_settings=ModelSettings(tool_choice=\"required\"),\n",
    ")\n",
    "tools = [\n",
    "    web_search_agent.as_tool(tool_name=\"web_search\", tool_description=\"Perform a web search\"),\n",
    "    writer_agent.as_tool(tool_name=\"write_report\", tool_description=\"Write a detailed report based on the search results\"),\n",
    "    email_agent.as_tool(tool_name=\"send_email\", tool_description=\"Send an email with the report\"),\n",
    "]\n",
    "\n",
    "final_agent = Agent(\n",
    "    name=\"FinalAgent\",\n",
    "    instructions=dedent(\n",
    "        \"\"\"\n",
    "        You are a manager in a research process. You will always use the tools provided to you to perform the tasks.\n",
    "        Every tool is specialized for a specific task. \n",
    "        You will be provided with a query. You should first plan the searches to perform, then perform the searches,\n",
    "        then write a report based on the search results, and finally send an email with the report.\n",
    "        Avoid attachments on the email, and instead use the HTML body of the email to present the report.\n",
    "        \"\"\"\n",
    "    ),\n",
    "    tools=tools,\n",
    "    model=\"gpt-4o-mini\",\n",
    "    model_settings=ModelSettings(tool_choice=\"required\"),\n",
    ")"
   ]
  },
  {
   "cell_type": "code",
   "execution_count": 17,
   "metadata": {},
   "outputs": [],
   "source": [
    "message = \"Latest latest updates of the IRS 2024 tax code changes\"\n",
    "with trace(\"Super researcher\"):\n",
    "    result = await Runner.run(final_agent, message)"
   ]
  },
  {
   "cell_type": "code",
   "execution_count": 18,
   "metadata": {},
   "outputs": [
    {
     "data": {
      "image/svg+xml": [
       "<?xml version=\"1.0\" encoding=\"UTF-8\" standalone=\"no\"?>\n",
       "<!DOCTYPE svg PUBLIC \"-//W3C//DTD SVG 1.1//EN\"\n",
       " \"http://www.w3.org/Graphics/SVG/1.1/DTD/svg11.dtd\">\n",
       "<!-- Generated by graphviz version 12.2.1 (20241206.2353)\n",
       " -->\n",
       "<!-- Title: G Pages: 1 -->\n",
       "<svg width=\"528pt\" height=\"205pt\"\n",
       " viewBox=\"0.00 0.00 528.07 204.78\" xmlns=\"http://www.w3.org/2000/svg\" xmlns:xlink=\"http://www.w3.org/1999/xlink\">\n",
       "<g id=\"graph0\" class=\"graph\" transform=\"scale(1 1) rotate(0) translate(4 200.78)\">\n",
       "<title>G</title>\n",
       "<polygon fill=\"white\" stroke=\"none\" points=\"-4,4 -4,-200.78 524.07,-200.78 524.07,4 -4,4\"/>\n",
       "<!-- __start__ -->\n",
       "<g id=\"node1\" class=\"node\">\n",
       "<title>__start__</title>\n",
       "<ellipse fill=\"lightblue\" stroke=\"black\" cx=\"319.44\" cy=\"-179.98\" rx=\"51.09\" ry=\"16.79\"/>\n",
       "<text text-anchor=\"middle\" x=\"319.44\" y=\"-174.56\" font-family=\"Arial\" font-size=\"14.00\">__start__</text>\n",
       "</g>\n",
       "<!-- FinalAgent -->\n",
       "<g id=\"node3\" class=\"node\">\n",
       "<title>FinalAgent</title>\n",
       "<polygon fill=\"lightyellow\" stroke=\"black\" points=\"373.44,-127.19 265.44,-127.19 265.44,-69.59 373.44,-69.59 373.44,-127.19\"/>\n",
       "<text text-anchor=\"middle\" x=\"319.44\" y=\"-92.96\" font-family=\"Arial\" font-size=\"14.00\">FinalAgent</text>\n",
       "</g>\n",
       "<!-- __start__&#45;&gt;FinalAgent -->\n",
       "<g id=\"edge1\" class=\"edge\">\n",
       "<title>__start__&#45;&gt;FinalAgent</title>\n",
       "<path fill=\"none\" stroke=\"black\" stroke-width=\"1.5\" d=\"M319.44,-162.87C319.44,-156.04 319.44,-147.74 319.44,-139.42\"/>\n",
       "<polygon fill=\"black\" stroke=\"black\" stroke-width=\"1.5\" points=\"322.94,-139.66 319.44,-129.66 315.94,-139.66 322.94,-139.66\"/>\n",
       "</g>\n",
       "<!-- __end__ -->\n",
       "<g id=\"node2\" class=\"node\">\n",
       "<title>__end__</title>\n",
       "<ellipse fill=\"lightblue\" stroke=\"black\" cx=\"48.44\" cy=\"-16.79\" rx=\"48.44\" ry=\"16.79\"/>\n",
       "<text text-anchor=\"middle\" x=\"48.44\" y=\"-11.37\" font-family=\"Arial\" font-size=\"14.00\">__end__</text>\n",
       "</g>\n",
       "<!-- FinalAgent&#45;&gt;__end__ -->\n",
       "<g id=\"edge8\" class=\"edge\">\n",
       "<title>FinalAgent&#45;&gt;__end__</title>\n",
       "<path fill=\"none\" stroke=\"black\" stroke-width=\"1.5\" d=\"M265.25,-81.47C215.8,-66.95 143.42,-45.69 96.13,-31.8\"/>\n",
       "<polygon fill=\"black\" stroke=\"black\" stroke-width=\"1.5\" points=\"97.13,-28.45 86.55,-28.99 95.16,-35.17 97.13,-28.45\"/>\n",
       "</g>\n",
       "<!-- web_search -->\n",
       "<g id=\"node4\" class=\"node\">\n",
       "<title>web_search</title>\n",
       "<ellipse fill=\"lightgreen\" stroke=\"black\" cx=\"177.44\" cy=\"-16.79\" rx=\"62.76\" ry=\"16.79\"/>\n",
       "<text text-anchor=\"middle\" x=\"177.44\" y=\"-11.37\" font-family=\"Arial\" font-size=\"14.00\">web_search</text>\n",
       "</g>\n",
       "<!-- FinalAgent&#45;&gt;web_search -->\n",
       "<g id=\"edge2\" class=\"edge\">\n",
       "<title>FinalAgent&#45;&gt;web_search</title>\n",
       "<path fill=\"none\" stroke=\"black\" stroke-width=\"1.5\" stroke-dasharray=\"1,5\" d=\"M265.34,-70.66C246.42,-60.36 225.83,-48.75 209.29,-39.04\"/>\n",
       "<polygon fill=\"black\" stroke=\"black\" stroke-width=\"1.5\" points=\"211.4,-36.22 201.01,-34.12 207.82,-42.24 211.4,-36.22\"/>\n",
       "</g>\n",
       "<!-- write_report -->\n",
       "<g id=\"node5\" class=\"node\">\n",
       "<title>write_report</title>\n",
       "<ellipse fill=\"lightgreen\" stroke=\"black\" cx=\"319.44\" cy=\"-16.79\" rx=\"61.7\" ry=\"16.79\"/>\n",
       "<text text-anchor=\"middle\" x=\"319.44\" y=\"-11.37\" font-family=\"Arial\" font-size=\"14.00\">write_report</text>\n",
       "</g>\n",
       "<!-- FinalAgent&#45;&gt;write_report -->\n",
       "<g id=\"edge4\" class=\"edge\">\n",
       "<title>FinalAgent&#45;&gt;write_report</title>\n",
       "<path fill=\"none\" stroke=\"black\" stroke-width=\"1.5\" stroke-dasharray=\"1,5\" d=\"M312.94,-69.1C312.6,-61.64 312.6,-53.58 312.94,-46.11\"/>\n",
       "<polygon fill=\"black\" stroke=\"black\" stroke-width=\"1.5\" points=\"316.43,-46.45 313.71,-36.21 309.45,-45.91 316.43,-46.45\"/>\n",
       "</g>\n",
       "<!-- send_email -->\n",
       "<g id=\"node6\" class=\"node\">\n",
       "<title>send_email</title>\n",
       "<ellipse fill=\"lightgreen\" stroke=\"black\" cx=\"459.44\" cy=\"-16.79\" rx=\"60.63\" ry=\"16.79\"/>\n",
       "<text text-anchor=\"middle\" x=\"459.44\" y=\"-11.37\" font-family=\"Arial\" font-size=\"14.00\">send_email</text>\n",
       "</g>\n",
       "<!-- FinalAgent&#45;&gt;send_email -->\n",
       "<g id=\"edge6\" class=\"edge\">\n",
       "<title>FinalAgent&#45;&gt;send_email</title>\n",
       "<path fill=\"none\" stroke=\"black\" stroke-width=\"1.5\" stroke-dasharray=\"1,5\" d=\"M362.7,-69.1C380.61,-58.64 401.24,-47.02 418.88,-37.49\"/>\n",
       "<polygon fill=\"black\" stroke=\"black\" stroke-width=\"1.5\" points=\"420.52,-40.58 427.69,-32.78 417.22,-34.41 420.52,-40.58\"/>\n",
       "</g>\n",
       "<!-- web_search&#45;&gt;FinalAgent -->\n",
       "<g id=\"edge3\" class=\"edge\">\n",
       "<title>web_search&#45;&gt;FinalAgent</title>\n",
       "<path fill=\"none\" stroke=\"black\" stroke-width=\"1.5\" stroke-dasharray=\"1,5\" d=\"M207.95,-31.92C224.6,-40.61 245.63,-52.13 264.95,-63.09\"/>\n",
       "<polygon fill=\"black\" stroke=\"black\" stroke-width=\"1.5\" points=\"263.07,-66.06 273.49,-67.98 266.55,-59.98 263.07,-66.06\"/>\n",
       "</g>\n",
       "<!-- write_report&#45;&gt;FinalAgent -->\n",
       "<g id=\"edge5\" class=\"edge\">\n",
       "<title>write_report&#45;&gt;FinalAgent</title>\n",
       "<path fill=\"none\" stroke=\"black\" stroke-width=\"1.5\" stroke-dasharray=\"1,5\" d=\"M324.99,-33.94C325.77,-40.64 326.16,-48.75 326.19,-56.89\"/>\n",
       "<polygon fill=\"black\" stroke=\"black\" stroke-width=\"1.5\" points=\"322.69,-56.76 325.98,-66.83 329.69,-56.91 322.69,-56.76\"/>\n",
       "</g>\n",
       "<!-- send_email&#45;&gt;FinalAgent -->\n",
       "<g id=\"edge7\" class=\"edge\">\n",
       "<title>send_email&#45;&gt;FinalAgent</title>\n",
       "<path fill=\"none\" stroke=\"black\" stroke-width=\"1.5\" stroke-dasharray=\"1,5\" d=\"M438.47,-32.79C423.89,-41.72 403.75,-53.41 384.14,-64.39\"/>\n",
       "<polygon fill=\"black\" stroke=\"black\" stroke-width=\"1.5\" points=\"382.68,-61.19 375.65,-69.11 386.09,-67.31 382.68,-61.19\"/>\n",
       "</g>\n",
       "</g>\n",
       "</svg>\n"
      ],
      "text/plain": [
       "<graphviz.sources.Source at 0x113267950>"
      ]
     },
     "execution_count": 18,
     "metadata": {},
     "output_type": "execute_result"
    }
   ],
   "source": [
    "draw_graph(final_agent)"
   ]
  }
 ],
 "metadata": {
  "kernelspec": {
   "display_name": ".venv",
   "language": "python",
   "name": "python3"
  },
  "language_info": {
   "codemirror_mode": {
    "name": "ipython",
    "version": 3
   },
   "file_extension": ".py",
   "mimetype": "text/x-python",
   "name": "python",
   "nbconvert_exporter": "python",
   "pygments_lexer": "ipython3",
   "version": "3.12.7"
  }
 },
 "nbformat": 4,
 "nbformat_minor": 2
}
