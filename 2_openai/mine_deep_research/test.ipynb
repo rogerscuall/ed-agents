{
 "cells": [
  {
   "cell_type": "code",
   "execution_count": 26,
   "id": "e0d876e8",
   "metadata": {},
   "outputs": [
    {
     "data": {
      "text/plain": [
       "True"
      ]
     },
     "execution_count": 26,
     "metadata": {},
     "output_type": "execute_result"
    }
   ],
   "source": [
    "import asyncio\n",
    "import random\n",
    "from agents import Agent, ItemHelpers, Runner, function_tool\n",
    "from dotenv import load_dotenv\n",
    "import os\n",
    "from openai.types.responses import ResponseTextDeltaEvent\n",
    "load_dotenv()\n"
   ]
  },
  {
   "cell_type": "code",
   "execution_count": 27,
   "id": "51d479b3",
   "metadata": {},
   "outputs": [],
   "source": [
    "@function_tool\n",
    "def how_many_jokes() -> int:\n",
    "    return 1"
   ]
  },
  {
   "cell_type": "code",
   "execution_count": 28,
   "id": "7e616c1f",
   "metadata": {},
   "outputs": [],
   "source": [
    "from pydantic import BaseModel, Field\n",
    "\n",
    "class Joke(BaseModel):\n",
    "    setup: str = Field(description=\"The setup of the joke\")\n",
    "    punchline: str = Field(description=\"The punchline of the joke\")\n"
   ]
  },
  {
   "cell_type": "code",
   "execution_count": 45,
   "id": "d1c9e491",
   "metadata": {},
   "outputs": [],
   "source": [
    "async def test():\n",
    "    agent = Agent(\n",
    "        name=\"Joker\",\n",
    "        instructions=\"First call the `how_many_jokes` tool, then tell that many jokes.\",\n",
    "        tools=[how_many_jokes],\n",
    "        output_type=Joke,\n",
    "    )\n",
    "\n",
    "    result = Runner.run_streamed(\n",
    "        agent,\n",
    "        input=\"Hello\",\n",
    "    )\n",
    "    print(\"=== Run starting ===\")\n",
    "\n",
    "    async for event in result.stream_events():\n",
    "        # We'll ignore the raw responses event deltas\n",
    "        if event.type == \"raw_response_event\" and isinstance(event.data, ResponseTextDeltaEvent):\n",
    "            # print(\"Event delta\")\n",
    "            print(event.data.delta, end=\"\", flush=True)\n",
    "        # When the agent updates, print that\n",
    "        elif event.type == \"agent_updated_stream_event\":\n",
    "            print(f\"Agent updated: {event.new_agent.name}\")\n",
    "            continue\n",
    "        # When items are generated, print them\n",
    "        elif event.type == \"run_item_stream_event\":\n",
    "            if event.item.type == \"tool_call_item\":\n",
    "                print(f\"-- Tool called: {event.item.raw_item.name}\")\n",
    "                print(f\"-- Tool args: {event.item.raw_item.arguments}\")\n",
    "                print(\"-- Tool was called\")\n",
    "            elif event.item.type == \"tool_call_output_item\":\n",
    "                print(f\"-- Tool output: {event.item.output}\")\n",
    "            elif event.item.type == \"message_output_item\":\n",
    "                print(f\"-- Message output:\\n {ItemHelpers.text_message_output(event.item)}\")\n",
    "                output = ItemHelpers.text_message_output(event.item)\n",
    "                parse_output = Joke.model_validate_json(output)\n",
    "                print(f\"Joke setup: {parse_output.setup}\")\n",
    "                print(f\"Joke punchline: {parse_output.punchline}\")\n",
    "            else:\n",
    "                pass  # Ignore other event types\n",
    "        else:\n",
    "            print(f\"Unknown event type: {event.type}\")\n",
    "\n",
    "    print(\"=== Run complete ===\")"
   ]
  },
  {
   "cell_type": "code",
   "execution_count": 46,
   "id": "c3e2aced",
   "metadata": {},
   "outputs": [
    {
     "name": "stdout",
     "output_type": "stream",
     "text": [
      "=== Run starting ===\n",
      "Agent updated: Joker\n",
      "Unknown event type: raw_response_event\n",
      "Unknown event type: raw_response_event\n",
      "Unknown event type: raw_response_event\n",
      "Unknown event type: raw_response_event\n",
      "Unknown event type: raw_response_event\n",
      "Unknown event type: raw_response_event\n",
      "Unknown event type: raw_response_event\n",
      "-- Tool called: how_many_jokes\n",
      "-- Tool args: {}\n",
      "-- Tool was called\n",
      "-- Tool output: 1\n",
      "Unknown event type: raw_response_event\n",
      "Unknown event type: raw_response_event\n",
      "Unknown event type: raw_response_event\n",
      "Unknown event type: raw_response_event\n",
      "{\"setup\":\"Why don't skeletons fight each other?\",\"punchline\":\"They don't have the guts.\"}Unknown event type: raw_response_event\n",
      "Unknown event type: raw_response_event\n",
      "Unknown event type: raw_response_event\n",
      "Unknown event type: raw_response_event\n",
      "-- Message output:\n",
      " {\"setup\":\"Why don't skeletons fight each other?\",\"punchline\":\"They don't have the guts.\"}\n",
      "Joke setup: Why don't skeletons fight each other?\n",
      "Joke punchline: They don't have the guts.\n",
      "=== Run complete ===\n",
      "None\n"
     ]
    }
   ],
   "source": [
    "output = await test()\n",
    "print(output)"
   ]
  }
 ],
 "metadata": {
  "kernelspec": {
   "display_name": ".venv",
   "language": "python",
   "name": "python3"
  },
  "language_info": {
   "codemirror_mode": {
    "name": "ipython",
    "version": 3
   },
   "file_extension": ".py",
   "mimetype": "text/x-python",
   "name": "python",
   "nbconvert_exporter": "python",
   "pygments_lexer": "ipython3",
   "version": "3.12.7"
  }
 },
 "nbformat": 4,
 "nbformat_minor": 5
}
